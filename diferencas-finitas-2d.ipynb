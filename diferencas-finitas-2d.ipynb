{
 "metadata": {
  "name": ""
 },
 "nbformat": 3,
 "nbformat_minor": 0,
 "worksheets": [
  {
   "cells": [
    {
     "cell_type": "code",
     "collapsed": false,
     "input": [
      "import time\n",
      "import numpy as np\n",
      "from matplotlib import animation\n",
      "from fatiando import gridder\n",
      "from fatiando.seismic import wavefd\n",
      "from fatiando.vis import mpl"
     ],
     "language": "python",
     "metadata": {},
     "outputs": [
      {
       "output_type": "stream",
       "stream": "stderr",
       "text": [
        "/home/leo/bin/anaconda/lib/python2.7/site-packages/obspy/core/util/base.py:15: UserWarning: Module argparse was already imported from /home/leo/bin/anaconda/lib/python2.7/argparse.pyc, but /home/leo/bin/anaconda/lib/python2.7/site-packages is being added to sys.path\n",
        "  from pkg_resources import require, iter_entry_points, load_entry_point\n"
       ]
      }
     ],
     "prompt_number": 1
    },
    {
     "cell_type": "code",
     "collapsed": false,
     "input": [
      "def anima(simulation, background, shape, area, duration, stations, maxit, dt, snapshot, delay=0):\n",
      "    fig = mpl.figure(figsize=(8, 8))\n",
      "    wavefield = mpl.imshow(np.zeros(shape), extent=area, vmin=-10**-6, vmax=10**-6, cmap=mpl.cm.seismic)\n",
      "    mpl.ylim(area[2:][::-1])\n",
      "    mpl.xlabel('x (km)')\n",
      "    mpl.ylabel('z (km)')\n",
      "    mpl.m2km()\n",
      "    times = np.linspace(0, maxit*dt, maxit)\n",
      "    def animate(i):\n",
      "        t, p, s, xcomp, zcomp = simulation.next()\n",
      "        mpl.title('time: %0.2f s' % (times[t]))\n",
      "        wavefield.set_array((background + p + s)[::-1])\n",
      "        time.sleep(delay)\n",
      "        return wavefield\n",
      "    anim = animation.FuncAnimation(fig, animate, frames=maxit/snapshot, interval=1)\n",
      "    mpl.show()"
     ],
     "language": "python",
     "metadata": {},
     "outputs": [],
     "prompt_number": 23
    },
    {
     "cell_type": "code",
     "collapsed": false,
     "input": [
      "shape = (300, 300)\n",
      "area = [0, 60000, 0, 60000]\n",
      "# Make a density and S wave velocity model\n",
      "density = 2400*np.ones(shape)\n",
      "pvel = 6600\n",
      "svel = 3700\n",
      "mu = wavefd.lame_mu(svel, density)\n",
      "lamb = wavefd.lame_lamb(pvel, svel, density)\n",
      "\n",
      "sources = wavefd.blast_source(30000, 40000, area, shape, 20000, 1, delay=1)\n",
      "dt = wavefd.maxdt(area, shape, pvel)\n",
      "duration = 20\n",
      "maxit = int(duration/dt)\n",
      "stations = None\n",
      "snapshot = int(0.5/dt) # Plot a snapshot of the simulation every 0.5 seconds\n",
      "simulation = wavefd.elastic_psv(lamb, mu, density, area, dt, maxit, sources,\n",
      "        stations, snapshot, padding=50, taper=0.01, xz2ps=True)\n",
      "anima(simulation, 0, shape, area, duration, stations, maxit, dt, snapshot, 0.7)"
     ],
     "language": "python",
     "metadata": {},
     "outputs": [],
     "prompt_number": 3
    },
    {
     "cell_type": "code",
     "collapsed": false,
     "input": [
      "shape = (300, 600)\n",
      "area = [0, 10000, 0, 5000]\n",
      "# Make a density and S wave velocity model\n",
      "density = 2400*np.ones(shape)\n",
      "pvel = 6000*np.ones(shape)\n",
      "svel = 4000*np.ones(shape)\n",
      "i = shape[0]/2\n",
      "density[:i] = 2000\n",
      "pvel[:i] = 4500\n",
      "svel[:i] = 2500\n",
      "mu = wavefd.lame_mu(svel, density)\n",
      "lamb = wavefd.lame_lamb(pvel, svel, density)\n",
      "\n",
      "sources = wavefd.blast_source(1000, 100, area, shape, 100000, 10, delay=0.1)\n",
      "dt = wavefd.maxdt(area, shape, pvel.max())\n",
      "duration = 20\n",
      "maxit = int(duration/dt)\n",
      "stations = None\n",
      "snapshot = int(0.05/dt)\n",
      "simulation = wavefd.elastic_psv(lamb, mu, density, area, dt, maxit, sources, \n",
      "                                stations, snapshot, padding=80, taper=0.007, xz2ps=True)\n",
      "anima(simulation, (pvel-pvel.min())*2*10**-10, shape, area, duration, stations, maxit, dt, snapshot)"
     ],
     "language": "python",
     "metadata": {},
     "outputs": [],
     "prompt_number": 26
    },
    {
     "cell_type": "code",
     "collapsed": false,
     "input": [],
     "language": "python",
     "metadata": {},
     "outputs": []
    }
   ],
   "metadata": {}
  }
 ]
}