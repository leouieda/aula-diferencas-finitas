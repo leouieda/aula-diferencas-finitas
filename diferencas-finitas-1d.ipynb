{
 "metadata": {
  "name": ""
 },
 "nbformat": 3,
 "nbformat_minor": 0,
 "worksheets": [
  {
   "cells": [
    {
     "cell_type": "markdown",
     "metadata": {},
     "source": [
      "# Equa\u00e7\u00e3o escalar da onda 1D"
     ]
    },
    {
     "cell_type": "code",
     "collapsed": false,
     "input": [
      "%load_ext cythonmagic\n",
      "import time\n",
      "import numpy as np\n",
      "from matplotlib.animation import FuncAnimation\n",
      "from fatiando.vis import mpl\n",
      "import matplotlib\n",
      "matplotlib.rcParams['font.size'] = 20"
     ],
     "language": "python",
     "metadata": {},
     "outputs": [
      {
       "output_type": "stream",
       "stream": "stderr",
       "text": [
        "/home/leo/bin/anaconda/lib/python2.7/site-packages/obspy/core/util/base.py:15: UserWarning: Module argparse was already imported from /home/leo/bin/anaconda/lib/python2.7/argparse.pyc, but /home/leo/bin/anaconda/lib/python2.7/site-packages is being added to sys.path\n",
        "  from pkg_resources import require, iter_entry_points, load_entry_point\n"
       ]
      }
     ],
     "prompt_number": 1
    },
    {
     "cell_type": "code",
     "collapsed": false,
     "input": [
      "def fd_o2(velocidade, nt, dt, dx, fontes, cada=1):\n",
      "    n = len(velocidade)\n",
      "    # Condicoes iniciais (zero para t = -1)\n",
      "    u = np.zeros((2, n))\n",
      "    # Aplicar a fonte t = 0\n",
      "    for s in fontes:\n",
      "        u[1, s.i] = s(0)\n",
      "    yield 1, u[1, :]\n",
      "    for it in xrange(1, nt):\n",
      "        t, tm1 = it%2, (it + 1)%2\n",
      "        tp1 = tm1\n",
      "        _step_o2(u, t, tm1, tp1, velocidade, dt, dx, n)\n",
      "        # Condicoes de contorno\n",
      "        u[tp1, 0] = u[tp1, 1] # superficie livre\n",
      "        u[tp1, -1] = 0 # superficie rigida\n",
      "        # Atualiza as fontes em t = t*dt\n",
      "        for s in fontes:\n",
      "            u[tp1, s.i] += s(it*dt)\n",
      "        if it%cada == 0:\n",
      "            yield it, u[tp1, :]"
     ],
     "language": "python",
     "metadata": {},
     "outputs": [],
     "prompt_number": 48
    },
    {
     "cell_type": "code",
     "collapsed": false,
     "input": [
      "%%cython\n",
      "import cython   \n",
      "\n",
      "@cython.boundscheck(False)\n",
      "@cython.wraparound(False)\n",
      "def _step_o2(double[:,::1] u, int t, int tm1, int tp1, \n",
      "             double[::1] velocidade, double dt, double dx, \n",
      "             unsigned int n):\n",
      "    cdef:\n",
      "        unsigned int i\n",
      "        double aux\n",
      "    aux = dt**2/dx**2\n",
      "    for i in range(1, n - 1):\n",
      "        u[tp1, i] = (2*u[t, i] - u[tm1, i] +  \n",
      "                     velocidade[i]**2*aux*(\n",
      "                         u[t, i+1] - 2*u[t, i] + u[t, i-1]))"
     ],
     "language": "python",
     "metadata": {},
     "outputs": [],
     "prompt_number": 4
    },
    {
     "cell_type": "code",
     "collapsed": false,
     "input": [
      "class Ricker():\n",
      "    \"Fonte de ondas com formato de chapeu mexicano\"\n",
      "    \n",
      "    def __init__(self, i, amp, freq, t0):\n",
      "        self.i = i\n",
      "        self.amp = amp\n",
      "        self.f2 = freq**2\n",
      "        self.t0 = t0\n",
      "        \n",
      "    def __call__(self, t):\n",
      "        t2 = (t - self.t0)**2\n",
      "        pi2 = np.pi**2\n",
      "        return self.amp*(1 - 2*pi2*self.f2*t2)*np.exp(-pi2*self.f2*t2)"
     ],
     "language": "python",
     "metadata": {},
     "outputs": [],
     "prompt_number": 3
    },
    {
     "cell_type": "code",
     "collapsed": false,
     "input": [
      "def anima(simulacao, x, dt, nt, ranges, espera=0, fig=None):\n",
      "    # Cria a animacao\n",
      "    if fig is None:\n",
      "        fig = mpl.figure()\n",
      "    fig.set_size_inches((10, 4))\n",
      "    mpl.grid(True)\n",
      "    mpl.subplots_adjust(top=0.9, bottom=0.17, left=0.1, right=0.97)\n",
      "    onda, = mpl.plot(x, np.zeros_like(x), '.-k')\n",
      "    mpl.xlim(x.min(), x.max())\n",
      "    mpl.ylim(*ranges)\n",
      "    mpl.xlabel('z (m)', fontsize=20)\n",
      "    mpl.ylabel('amplitude (m)', fontsize=20)\n",
      "    def animate(i):\n",
      "        t, u = simulacao.next()\n",
      "        time.sleep(espera)\n",
      "        mpl.title('t = %0.2f s' % (t*dt))\n",
      "        onda.set_data(x, u)\n",
      "        return onda\n",
      "    anim = FuncAnimation(fig, animate, frames=nt, interval=1)\n",
      "    mpl.show()"
     ],
     "language": "python",
     "metadata": {},
     "outputs": [],
     "prompt_number": 165
    },
    {
     "cell_type": "code",
     "collapsed": false,
     "input": [
      "def plota_fonte(fonte, dt, nt):\n",
      "    tempo = np.arange(0, dt*nt, dt)\n",
      "    a = [fonte(t) for t in tempo]\n",
      "    mpl.figure()\n",
      "    mpl.title('Fonte')\n",
      "    mpl.plot(tempo, a, '-k')\n",
      "    mpl.xlabel('tempo (s)')\n",
      "    mpl.ylabel('amplitude (m)')\n",
      "    mpl.show()"
     ],
     "language": "python",
     "metadata": {},
     "outputs": [],
     "prompt_number": 166
    },
    {
     "cell_type": "markdown",
     "metadata": {},
     "source": [
      "## Exemplo"
     ]
    },
    {
     "cell_type": "code",
     "collapsed": false,
     "input": [
      "n = 200\n",
      "xmax = 10000.\n",
      "dx = xmax/n\n",
      "print 'dx =', dx\n",
      "velocidade = np.zeros(n) + 3000\n",
      "dt = 0.01\n",
      "x = np.arange(0, n*dx, dx)\n",
      "duracao = 10\n",
      "nt = int(duracao/dt)\n",
      "fonte = Ricker(1, 0.5, 2, 1)\n",
      "plota_fonte(fonte, dt, nt)\n",
      "simulacao = fd_o2(velocidade, nt, dt, dx, [fonte], 1)\n",
      "anima(simulacao, x, dt, nt, [-5, 5])"
     ],
     "language": "python",
     "metadata": {},
     "outputs": [
      {
       "output_type": "stream",
       "stream": "stdout",
       "text": [
        "dx = 50.0\n"
       ]
      }
     ],
     "prompt_number": 167
    },
    {
     "cell_type": "code",
     "collapsed": false,
     "input": [
      "n = 100\n",
      "dx = xmax/n\n",
      "print 'dx =', dx\n",
      "velocidade = np.zeros(n) + 3000\n",
      "dt = 0.01\n",
      "x = np.arange(0, n*dx, dx)\n",
      "nt = int(duracao/dt)\n",
      "fonte = Ricker(1, 1, 10, 0.5)\n",
      "plota_fonte(fonte, dt, nt)\n",
      "simulacao = fd_o2(velocidade, nt, dt, dx, [fonte], 1)\n",
      "anima(simulacao, x, dt, nt, [-5, 5])"
     ],
     "language": "python",
     "metadata": {},
     "outputs": [
      {
       "output_type": "stream",
       "stream": "stdout",
       "text": [
        "dx = 100.0\n"
       ]
      }
     ],
     "prompt_number": 104
    },
    {
     "cell_type": "code",
     "collapsed": false,
     "input": [
      "n = 3000\n",
      "dt = 0.0001\n",
      "velocidade = np.zeros(n) + 3000\n",
      "dx = xmax/n\n",
      "x = np.arange(0, n*dx, dx)\n",
      "nt = int(duracao/dt)\n",
      "fonte = Ricker(1, 0.002, 10, 0.1)\n",
      "simulacao = fd_o2(velocidade, nt, dt, dx, [fonte], 30)\n",
      "anima(simulacao, x, dt, nt, [-5, 5])"
     ],
     "language": "python",
     "metadata": {},
     "outputs": [],
     "prompt_number": 164
    },
    {
     "cell_type": "markdown",
     "metadata": {},
     "source": [
      "## Ordem 4"
     ]
    },
    {
     "cell_type": "code",
     "collapsed": false,
     "input": [
      "def fd_o4(velocidade, nt, dt, dx, fontes, cada=1):\n",
      "    n = len(velocidade)\n",
      "    # Condicoes iniciais (zero para t = -1)\n",
      "    u = np.zeros((2, n))\n",
      "    # Aplicar a fonte t = 0\n",
      "    for s in fontes:\n",
      "        u[1, s.i] = s(0)\n",
      "    yield 1, u[1, :]\n",
      "    for it in xrange(1, nt):\n",
      "        t, tm1 = it%2, (it + 1)%2\n",
      "        tp1 = tm1\n",
      "        _step_o4(u, t, tm1, tp1, velocidade, dt, dx, n)\n",
      "        # Condicoes de contorno\n",
      "        # 1. superficie livre\n",
      "        u[tp1, 1] = u[tp1, 2]\n",
      "        u[tp1, 0] = u[tp1, 1]\n",
      "        # 2. superficie rigida\n",
      "        u[tp1, -1] = 0\n",
      "        u[tp1, -2] = 0\n",
      "        # Atualiza as fontes em t = t*dt\n",
      "        for s in fontes:\n",
      "            u[tp1, s.i] += s(it*dt)\n",
      "        if it%cada == 0:\n",
      "            yield it, u[tp1, :]        "
     ],
     "language": "python",
     "metadata": {},
     "outputs": [],
     "prompt_number": 79
    },
    {
     "cell_type": "code",
     "collapsed": false,
     "input": [
      "%%cython\n",
      "import cython   \n",
      "\n",
      "@cython.boundscheck(False)\n",
      "@cython.wraparound(False)\n",
      "def _step_o4(double[:,::1] u, int t, int tm1, int tp1, \n",
      "             double[::1] velocidade, double dt, double dx, \n",
      "             unsigned int n):\n",
      "    cdef:\n",
      "        unsigned int i\n",
      "        double aux\n",
      "    aux = dt**2/(12.*dx**2)\n",
      "    for i in range(2, n - 2):\n",
      "        u[tp1, i] = (\n",
      "            2*u[t, i] - u[tm1, i] +  \n",
      "            velocidade[i]**2*aux*(\n",
      "                -u[t, i+2] + 16*u[t, i+1] - 30*u[t, i] + 16*u[t, i-1] - u[t, i-2]))"
     ],
     "language": "python",
     "metadata": {},
     "outputs": [],
     "prompt_number": 80
    },
    {
     "cell_type": "code",
     "collapsed": false,
     "input": [
      "n = 500\n",
      "dt = 0.001\n",
      "velocidade = np.zeros(n) + 3000\n",
      "dx = xmax/n\n",
      "x = np.arange(0, n*dx, dx)\n",
      "nt = int(duracao/dt)\n",
      "fonte = Ricker(2, 0.05, 10, 0.5)\n",
      "simulacao = fd_o4(velocidade, nt, dt, dx, [fonte], 10)\n",
      "anima(simulacao, x, dt, nt, [-5, 5], 0.0)"
     ],
     "language": "python",
     "metadata": {},
     "outputs": [],
     "prompt_number": 114
    },
    {
     "cell_type": "code",
     "collapsed": false,
     "input": [
      "fonte = Ricker(2, 0.05, 10, 0.5)\n",
      "simulacao = fd_o2(velocidade, nt, dt, dx, [fonte], 10)\n",
      "anima(simulacao, x, dt, nt, [-5, 5], 0.0)"
     ],
     "language": "python",
     "metadata": {},
     "outputs": [],
     "prompt_number": 116
    },
    {
     "cell_type": "markdown",
     "metadata": {},
     "source": [
      "## Meio semi-infinito"
     ]
    },
    {
     "cell_type": "code",
     "collapsed": false,
     "input": [
      "def fd_taper(velocidade, nt, dt, dx, fontes, pad, taper, cada=1):\n",
      "    n = len(velocidade)\n",
      "    # Condicoes iniciais (zero para t = -1)\n",
      "    u = np.zeros((2, n))\n",
      "    # Aplicar a fonte t = 0\n",
      "    for s in fontes:\n",
      "        u[1, s.i] = s(0)\n",
      "    yield 1, u[1, :]\n",
      "    padding = np.array(range(pad))\n",
      "    for it in xrange(1, nt):\n",
      "        t, tm1 = it%2, (it + 1)%2\n",
      "        tp1 = tm1\n",
      "        _step_o4(u, t, tm1, tp1, velocidade, dt, dx, n)\n",
      "        # Condicoes de contorno\n",
      "        # 1. superficie livre\n",
      "        u[tp1, 1] = u[tp1, 2] \n",
      "        u[tp1, 0] = u[tp1, 1]\n",
      "        # 2. superficie rigida\n",
      "        u[tp1, -1] = 0\n",
      "        u[tp1, -2] = 0\n",
      "        # 3. Gaussian taper\n",
      "        u[tp1, -pad:] *= np.exp(-(taper*padding)**2)\n",
      "        u[t, -pad:] *= np.exp(-(taper*padding)**2)\n",
      "        # Atualiza as fontes em t = t*dt\n",
      "        for s in fontes:\n",
      "            u[tp1, s.i] += s(it*dt)\n",
      "        if it%cada == 0:\n",
      "            yield it, u[tp1, :]        "
     ],
     "language": "python",
     "metadata": {},
     "outputs": [],
     "prompt_number": 117
    },
    {
     "cell_type": "code",
     "collapsed": false,
     "input": [
      "n = 500\n",
      "dt = 0.001\n",
      "velocidade = np.zeros(n) + 3000\n",
      "dx = xmax/n\n",
      "x = np.arange(0, n*dx, dx)\n",
      "nt = int(duracao/dt)\n",
      "fonte = Ricker(n/2, 0.05, 10, 0.5)\n",
      "simulacao = fd_taper(velocidade, nt, dt, dx, [fonte], 30, 0.005, 5)\n",
      "anima(simulacao, x, dt, nt, [-5, 5], 0.0)"
     ],
     "language": "python",
     "metadata": {},
     "outputs": [],
     "prompt_number": 127
    },
    {
     "cell_type": "code",
     "collapsed": false,
     "input": [
      "def fd_nr(velocidade, nt, dt, dx, fontes, cada=1):\n",
      "    n = len(velocidade)\n",
      "    # Condicoes iniciais (zero para t = -1)\n",
      "    u = np.zeros((2, n))\n",
      "    # Aplicar a fonte t = 0\n",
      "    for s in fontes:\n",
      "        u[1, s.i] = s(0)\n",
      "    yield 1, u[1, :]\n",
      "    for it in xrange(1, nt):\n",
      "        t, tm1 = it%2, (it + 1)%2\n",
      "        tp1 = tm1\n",
      "        _step_o4(u, t, tm1, tp1, velocidade, dt, dx, n)\n",
      "        # Condicoes de contorno\n",
      "        # 1. superficie livre\n",
      "        u[tp1, 1] = u[tp1, 2] \n",
      "        u[tp1, 0] = u[tp1, 1]\n",
      "        # 2. superficie rigida\n",
      "        for i in [-2, -1]:\n",
      "            u[tp1, i] = u[t, i] - dt*velocidade[i]*(u[t, i] - u[t, i-1])/dx\n",
      "        # Atualiza as fontes em t = t*dt\n",
      "        for s in fontes:\n",
      "            u[tp1, s.i] += s(it*dt)\n",
      "        if it%cada == 0:\n",
      "            yield it, u[tp1, :]"
     ],
     "language": "python",
     "metadata": {},
     "outputs": [],
     "prompt_number": 128
    },
    {
     "cell_type": "code",
     "collapsed": false,
     "input": [
      "n = 500\n",
      "dt = 0.001\n",
      "velocidade = np.zeros(n) + 3000\n",
      "dx = xmax/n\n",
      "x = np.arange(0, n*dx, dx)\n",
      "nt = int(duracao/dt)\n",
      "fonte = Ricker(n/2, 0.05, 10, 0.5)\n",
      "simulacao = fd_nr(velocidade, nt, dt, dx, [fonte], 5)\n",
      "anima(simulacao, x, dt, nt, [-5, 5], 0.0)"
     ],
     "language": "python",
     "metadata": {},
     "outputs": [],
     "prompt_number": 130
    },
    {
     "cell_type": "code",
     "collapsed": false,
     "input": [
      "def fd_taper_nr(velocidade, nt, dt, dx, fontes, pad, taper, cada=1):\n",
      "    n = len(velocidade)\n",
      "    # Condicoes iniciais (zero para t = -1)\n",
      "    u = np.zeros((2, n))\n",
      "    # Aplicar a fonte t = 0\n",
      "    for s in fontes:\n",
      "        u[1, s.i] = s(0)\n",
      "    yield 1, u[1, :]\n",
      "    padding = np.array(range(pad))\n",
      "    for it in xrange(1, nt):\n",
      "        t, tm1 = it%2, (it + 1)%2\n",
      "        tp1 = tm1\n",
      "        _step_o4(u, t, tm1, tp1, velocidade, dt, dx, n)\n",
      "        # Condicoes de contorno\n",
      "        # 1. superficie livre\n",
      "        u[tp1, 1] = u[tp1, 2] \n",
      "        u[tp1, 0] = u[tp1, 1]\n",
      "        # 2. nao reflexiva\n",
      "        for i in [-2, -1]:\n",
      "            u[tp1, i] = u[t, i] - dt*velocidade[i]*(u[t, i] - u[t, i-1])/dx\n",
      "        # 3. Gaussian taper\n",
      "        u[tp1, -pad:] *= np.exp(-(taper*padding)**2)\n",
      "        u[t, -pad:] *= np.exp(-(taper*padding)**2)\n",
      "        # Atualiza as fontes em t = t*dt\n",
      "        for s in fontes:\n",
      "            u[tp1, s.i] += s(it*dt)\n",
      "        if it%cada == 0:\n",
      "            yield it, u[tp1, :]        "
     ],
     "language": "python",
     "metadata": {},
     "outputs": [],
     "prompt_number": 131
    },
    {
     "cell_type": "code",
     "collapsed": false,
     "input": [
      "n = 500\n",
      "dt = 0.001\n",
      "velocidade = np.zeros(n) + 3000\n",
      "dx = xmax/n\n",
      "x = np.arange(0, n*dx, dx)\n",
      "nt = int(duracao/dt)\n",
      "fonte = Ricker(n/2, 0.05, 10, 0.5)\n",
      "simulacao = fd_taper_nr(velocidade, nt, dt, dx, [fonte], 30, 0.005, 5)\n",
      "anima(simulacao, x, dt, nt, [-5, 5], 0.0)"
     ],
     "language": "python",
     "metadata": {},
     "outputs": [],
     "prompt_number": 136
    },
    {
     "cell_type": "markdown",
     "metadata": {},
     "source": [
      "## Velocidades"
     ]
    },
    {
     "cell_type": "code",
     "collapsed": false,
     "input": [
      "n = 1500\n",
      "dt = 0.0001\n",
      "velocidade = np.zeros(n) + 3000\n",
      "velocidade[n/3:] = 6000\n",
      "dx = xmax/n\n",
      "x = np.arange(0, n*dx, dx)\n",
      "nt = int(duracao/dt)\n",
      "fonte = Ricker(2, 0.001, 20, 0.1)\n",
      "simulacao = fd_taper_nr(velocidade, nt, dt, dx, [fonte], 150, 0.0003, 20)\n",
      "fig = mpl.figure()\n",
      "mpl.gca().add_patch(mpl.Rectangle((x[n/3], -5), x[-1] - x[n/3], 10, facecolor=\"#aaaaaa\"))\n",
      "mpl.text(6000, 3, 'V = %.0f' % (velocidade.max()))\n",
      "mpl.text(800, 3, 'V = %.0f' % (velocidade.min()))\n",
      "anima(simulacao, x, dt, nt, [-5, 5], 0.0, fig)"
     ],
     "language": "python",
     "metadata": {},
     "outputs": [],
     "prompt_number": 178
    }
   ],
   "metadata": {}
  }
 ]
}